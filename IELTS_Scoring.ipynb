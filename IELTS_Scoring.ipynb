{
 "cells": [
  {
   "cell_type": "code",
   "execution_count": 1,
   "metadata": {},
   "outputs": [
    {
     "name": "stderr",
     "output_type": "stream",
     "text": [
      "2024-05-06 00:46:42.745151: E external/local_xla/xla/stream_executor/cuda/cuda_dnn.cc:9261] Unable to register cuDNN factory: Attempting to register factory for plugin cuDNN when one has already been registered\n",
      "2024-05-06 00:46:42.745176: E external/local_xla/xla/stream_executor/cuda/cuda_fft.cc:607] Unable to register cuFFT factory: Attempting to register factory for plugin cuFFT when one has already been registered\n",
      "2024-05-06 00:46:42.745774: E external/local_xla/xla/stream_executor/cuda/cuda_blas.cc:1515] Unable to register cuBLAS factory: Attempting to register factory for plugin cuBLAS when one has already been registered\n",
      "2024-05-06 00:46:43.279263: W tensorflow/compiler/tf2tensorrt/utils/py_utils.cc:38] TF-TRT Warning: Could not find TensorRT\n"
     ]
    }
   ],
   "source": [
    "from bot import IELTSBot\n",
    "import numpy as np\n",
    "import torch"
   ]
  },
  {
   "cell_type": "code",
   "execution_count": 2,
   "metadata": {},
   "outputs": [],
   "source": [
    "EXAMPLES = 'sample/cambridge'"
   ]
  },
  {
   "cell_type": "code",
   "execution_count": 3,
   "metadata": {},
   "outputs": [
    {
     "name": "stdout",
     "output_type": "stream",
     "text": [
      "['15_2_6', '17_3_6.5', '15_1_7', '16_3_7', '17_1_6.5', '16_4_4', '16_2_4.5', '17_2_6.5', '15_4_6.5', '15_3_7', '17_4_6', '16_1_6']\n"
     ]
    }
   ],
   "source": [
    "import os.path\n",
    "dirs = [d for d in os.listdir(EXAMPLES) if os.path.isdir(os.path.join(EXAMPLES, d))]\n",
    "print(dirs)"
   ]
  },
  {
   "cell_type": "code",
   "execution_count": 4,
   "metadata": {},
   "outputs": [],
   "source": [
    "model_id = \"meta-llama/Meta-Llama-3-8B-Instruct\""
   ]
  },
  {
   "cell_type": "code",
   "execution_count": 5,
   "metadata": {},
   "outputs": [
    {
     "name": "stderr",
     "output_type": "stream",
     "text": [
      "The `load_in_4bit` and `load_in_8bit` arguments are deprecated and will be removed in the future versions. Please, pass a `BitsAndBytesConfig` object in `quantization_config` argument instead.\n"
     ]
    },
    {
     "data": {
      "application/vnd.jupyter.widget-view+json": {
       "model_id": "71d4abf0685542b682f1582d15a4ca8c",
       "version_major": 2,
       "version_minor": 0
      },
      "text/plain": [
       "Loading checkpoint shards:   0%|          | 0/4 [00:00<?, ?it/s]"
      ]
     },
     "metadata": {},
     "output_type": "display_data"
    },
    {
     "name": "stderr",
     "output_type": "stream",
     "text": [
      "Special tokens have been added in the vocabulary, make sure the associated word embeddings are fine-tuned or trained.\n"
     ]
    }
   ],
   "source": [
    "scoring_bot = IELTSBot(model_name=model_id, verbose=True, quantization='int4')"
   ]
  },
  {
   "cell_type": "markdown",
   "metadata": {},
   "source": [
    "## Evaluating results"
   ]
  },
  {
   "cell_type": "code",
   "execution_count": 6,
   "metadata": {},
   "outputs": [],
   "source": [
    "# scoring_bot.change_system_prompt_criteria(False)"
   ]
  },
  {
   "cell_type": "code",
   "execution_count": 7,
   "metadata": {},
   "outputs": [
    {
     "name": "stdout",
     "output_type": "stream",
     "text": [
      "\n",
      "    You are an English teaching assistant, and you are good at evaluating essays, and your students need you for their IELTS Academic essay task 2. You will make evaluation based on the topic and student's response.\n",
      "    You should grade the essay general score and in 4 metrics in IELTS Writing, which are Task Response, Coherence and Cohesion, Lexical Resource and Grammatical Range and Accuracy. \n",
      "    The overall must be the mean value of 4 metric scores and can be a float value between 0 and 9 (round to .5), but each metric score should be an integer between 0 and 9.\n",
      "    Recall the IELTS Writing band score criteria.\n",
      "    \n",
      "    The formula to calculate the general score is:\n",
      "    ```\n",
      "    General_score = ( ( Task_Response + Coherence_and_Cohesion + Lexical_Resource + Grammatical_Range_and_Accuracy) // 2 ) / 2 \n",
      "    ```\n",
      "\n",
      "    In each metric, you should give a detailed explanation and point out exactly the student mistakes that led to that score.\n",
      "    Your output format should be like this:\n",
      "    **General: score**\n",
      "Overall Explanation:\n",
      "`Your detailed explanation`\n",
      "**metric_name : score**\n",
      "Explanation: \n",
      "`Your detailed explanation`\n",
      "\n",
      "For example:\n",
      "**General: 7**\n",
      "Overall Explanation: Your explanation\n",
      "**Task Response: 6**\n",
      "Explanation: Your explanation\n",
      "**Coherence and Cohesion: 7**\n",
      "Explanation: Your explanation\n",
      "**Lexical Resource: 8**\n",
      "Explanation: Your explanation\n",
      "**Grammatical Range and Accuracy: 7**\n",
      "Explanation: Your explanation\n",
      "\n",
      "    - The overall score should be the mean value of 4 metric scores, round down to .0 and .5, so make sure your evaluation right.\n",
      "    - Provide constructive feedback.\n"
     ]
    }
   ],
   "source": [
    "# print(scoring_bot.system_prompt)"
   ]
  },
  {
   "cell_type": "code",
   "execution_count": 6,
   "metadata": {},
   "outputs": [],
   "source": [
    "y_true = []\n",
    "y_preds = []"
   ]
  },
  {
   "cell_type": "code",
   "execution_count": 7,
   "metadata": {},
   "outputs": [],
   "source": [
    "scoring_bot.clear_messages()"
   ]
  },
  {
   "cell_type": "code",
   "execution_count": 8,
   "metadata": {},
   "outputs": [],
   "source": [
    "with open(f'{EXAMPLES}/15_1_7/question.txt', 'r') as f:\n",
    "                essay_topic = f.read()\n",
    "\n",
    "with open(f'{EXAMPLES}/15_1_7/answer.txt', 'r') as f:\n",
    "    student_response = f.read()"
   ]
  },
  {
   "cell_type": "code",
   "execution_count": 9,
   "metadata": {},
   "outputs": [
    {
     "data": {
      "text/plain": [
       "[{'role': 'system',\n",
       "  'content': \"\\nYou are an English teaching assistant, and you are good at evaluating essays, and your students need you for their IELTS Academic essay task 2. You will make evaluation based on the topic and student's response.\\nYou should grade the essay general score and in 4 metrics in IELTS Writing, which are Task Response, Coherence and Cohesion, Lexical Resource and Grammatical Range and Accuracy. \\nThe overall must be the mean value of 4 metric scores and can be a float value between 0 and 9 (round to .5), but each metric score should be an integer between 0 and 9.\\nRecall the IELTS Writing band score criteria.\\nHere are the criteria for each metric at each band score:\\n\\n**Task Response:**\\nBand 8:\\nThe prompt is appropriately and sufficiently addressed.\\nA clear and well-developed position is presented in response to the question.\\nIdeas are relevant, well extended and supported.\\nThere may be occasional omissions or lapses in content.\\n\\nBand 7:\\nThe main parts of the prompt are appropriately addressed.\\nA clear and developed position is presented.\\nMain ideas are extended and supported but there may be a tendency to over-generalise or there may be a lack of focus and precision in supporting ideas/material.\\n\\nBand 6:\\nThe main parts of the prompt are addressed (though some may be more fully covered than others). An appropriate format is used.\\nA position is presented that is directly relevant to the prompt, although the conclusions drawn may be unclear, unjustified or repetitive.\\nMain ideas are relevant, but some may be insufficiently developed or may lack clarity, while some supporting arguments and evidence may be less relevant or inadequate.\\n\\nBand 5:\\nThe main parts of the prompt are incompletely addressed. The format may be inappropriate in places.\\nThe writer expresses a position, but the development is not always clear.\\nSome main ideas are put forward, but they are limited and are not sufficiently developed and/or there may be irrelevant detail.\\nThere may be some repetition.\\n\\nBand 4:\\nThe prompt is tackled in a minimal way, or the answer is tangential, possibly due to some misunderstanding of the prompt. The format may be inappropriate.\\nA position is discernible, but the reader has to read carefully to find it.\\nMain ideas are difficult to identify and such ideas that are identifiable may lack relevance, clarity and/or support.\\nLarge parts of the response may be repetitive.\\n\\n**Coherence and cohesion**\\nBand 8:\\nThe message can be followed with ease.\\nInformation and ideas are logically sequenced, and cohesion is well managed.\\nOccasional lapses in coherence and cohesion may occur.\\nParagraphing is used sufficiently and appropriately.\\n\\nBand 7:\\nInformation and ideas are logically organised, and there is a clear progression throughout the response. (A few lapses may occur, but these are minor.)\\nA range of cohesive devices including reference and substitution is used flexibly but with some inaccuracies or some over/under use.\\nParagraphing is generally used effectively to support overall coherence, and the sequencing of ideas within a paragraph is generally logical.\\n\\nBand 6:\\nInformation and ideas are generally arranged coherently and there is a clear overall progression.\\nCohesive devices are used to some good effect but cohesion within and/or between sentences may be faulty or mechanical due to misuse, overuse or omission.\\nThe use of reference and substitution may lack flexibility or clarity and result in some repetition or error.\\nParagraphing may not always be logical and/or the central topic may not always be clear.\\n\\nBand 5:\\nOrganisation is evident but is not wholly logical and there may be a lack of overall progression. Nevertheless, there is a sense of underlying coherence to the response.\\nThe relationship of ideas can be followed but the sentences are not fluently linked to each other.\\nThere may be limited/overuse of cohesive devices with some inaccuracy.\\nThe writing may be repetitive due to inadequate and/or inaccurate use of reference and substitution.\\nParagraphing may be inadequate or missing.\\n\\nBand 4:\\nInformation and ideas are evident but not arranged coherently and there is no clear progression within the response.\\nRelationships between ideas can be unclear and/or inadequately marked. There is some use of basic cohesive devices, which may be inaccurate or repetitive.\\nThere is inaccurate use or a lack of substitution or referencing.\\nThere may be no paragraphing and/or no clear main topic within paragraphs.\\n\\n**Lexical resource**\\nBand 8:\\nA wide resource is fluently and flexibly used to convey precise meanings.\\nThere is skilful use of uncommon and/or idiomatic items when appropriate, despite occasional inaccuracies in word choice and collocation.\\nOccasional errors in spelling and/or word formation may occur, but have minimal impact on communication.\\n\\nBand 7:\\nInformation and ideas are logically organised, and there is a clear progression throughout the response. (A few lapses may occur, but these are minor.)\\nA range of cohesive devices including reference and substitution is used flexibly but with some inaccuracies or some over/under use.\\nParagraphing is generally used effectively to support overall coherence, and the sequencing of ideas within a paragraph is generally logical.\\n\\nBand 6:\\nThe resource is generally adequate and appropriate for the task.\\nThe meaning is generally clear in spite of a rather restricted range or a lack of precision in word choice.\\nIf the writer is a risk-taker, there will be a wider range of vocabulary used but higher degrees of inaccuracy or inappropriacy.\\nThere are some errors in spelling and/or word formation, but these do not impede communication.\\n\\nBand 5:\\nThe resource is limited but minimally adequate for the task.\\nSimple vocabulary may be used accurately but the range does not permit much variation in expression.\\nThere may be frequent lapses in the appropriacy of word choice and a lack of flexibility is apparent in frequent simplifications and/or repetitions.\\nErrors in spelling and/or word formation may be noticeable and may cause some difficulty for the reader.\\n\\nBand 4:\\nThe resource is limited and inadequate for or unrelated to the task. Vocabulary is basic and may be used repetitively.\\nThere may be inappropriate use of lexical chunks (e.g. memorised phrases, formulaic language and/or language from the input material).\\nInappropriate word choice and/or errors in word formation and/or in spelling may impede meaning\\n\\n**Grammatical range and accuracy**\\nBand 8:\\nA wide range of structures is flexibly and accurately used.\\nThe majority of sentences are error-free, and punctuation is well managed.\\nOccasional, non-systematic errors and inappropriacies occur, but have minimal impact on communication\\n\\nBand 7:\\nA variety of complex structures is used with some flexibility and accuracy.\\nGrammar and punctuation are generally well controlled, and error-free sentences are frequent.\\nA few errors in grammar may persist, but these do not impede communication.\\n\\nBand 6:\\nA mix of simple and complex sentence forms is used but flexibility is limited.\\nExamples of more complex structures are not marked by the same level of accuracy as in simple structures.\\nErrors in grammar and punctuation occur, but rarely impede communication\\n\\nBand 5:\\nThe range of structures is limited and rather repetitive.\\nAlthough complex sentences are attempted, they tend to be faulty, and the greatest accuracy is achieved on simple sentences.\\nGrammatical errors may be frequent and cause some difficulty for the reader.\\nPunctuation may be faulty.\\n\\nBand 4:\\nA very limited range of structures is used.\\nSubordinate clauses are rare and simple sentences predominate.\\nSome structures are produced accurately but grammatical errors are frequent and may impede meaning.\\nPunctuation is often faulty or inadequate.\\nThe formula to calculate the general score is:\\n```\\nGeneral_score = ( ( Task_Response + Coherence_and_Cohesion + Lexical_Resource + Grammatical_Range_and_Accuracy) // 2 ) / 2 \\n```\\n\\nIn each metric, you should give a detailed explanation and point out exactly the student mistakes that led to that score.\\nYour output format should be like this:\\n**General: score**\\nOverall Explanation:\\n`Your detailed explanation`\\n**metric_name : score**\\nExplanation: \\n`Your detailed explanation`\\n\\nFor example:\\n**General: 7**\\nOverall Explanation: Your explanation\\n**Task Response: 6**\\nExplanation: Your explanation\\n**Coherence and Cohesion: 7**\\nExplanation: Your explanation\\n**Lexical Resource: 8**\\nExplanation: Your explanation\\n**Grammatical Range and Accuracy: 7**\\nExplanation: Your explanation\\n\\n- The overall score should be the mean value of 4 metric scores, round down to .0 and .5, so make sure your evaluation right.\\n- Provide constructive feedback.\"}]"
      ]
     },
     "execution_count": 9,
     "metadata": {},
     "output_type": "execute_result"
    }
   ],
   "source": [
    "scoring_bot.messages"
   ]
  },
  {
   "cell_type": "code",
   "execution_count": 10,
   "metadata": {},
   "outputs": [
    {
     "name": "stderr",
     "output_type": "stream",
     "text": [
      "/home/quanghung20gg/anaconda3/lib/python3.11/site-packages/bitsandbytes/autograd/_functions.py:316: UserWarning: MatMul8bitLt: inputs will be cast from torch.bfloat16 to float16 during quantization\n",
      "  warnings.warn(f\"MatMul8bitLt: inputs will be cast from {A.dtype} to float16 during quantization\")\n"
     ]
    },
    {
     "name": "stdout",
     "output_type": "stream",
     "text": [
      "______Adjusting score 1_______\n",
      "Inconsistent scoring\n",
      "______Adjusting score 1_______\n",
      "Inconsistent scoring\n",
      "______Adjusting score 1_______\n",
      "Inconsistent scoring\n",
      "______Adjusting score 1_______\n",
      "Inconsistent scoring\n",
      "______Adjusting score 1_______\n",
      "Inconsistent scoring\n",
      "______Adjusting score 2_______\n",
      "Inconsistent scoring\n"
     ]
    },
    {
     "name": "stderr",
     "output_type": "stream",
     "text": [
      "--- Logging error ---\n",
      "Traceback (most recent call last):\n",
      "  File \"/home/quanghung20gg/anaconda3/lib/python3.11/logging/__init__.py\", line 1110, in emit\n",
      "    msg = self.format(record)\n",
      "          ^^^^^^^^^^^^^^^^^^^\n",
      "  File \"/home/quanghung20gg/anaconda3/lib/python3.11/logging/__init__.py\", line 953, in format\n",
      "    return fmt.format(record)\n",
      "           ^^^^^^^^^^^^^^^^^^\n",
      "  File \"/home/quanghung20gg/anaconda3/lib/python3.11/logging/__init__.py\", line 687, in format\n",
      "    record.message = record.getMessage()\n",
      "                     ^^^^^^^^^^^^^^^^^^^\n",
      "  File \"/home/quanghung20gg/anaconda3/lib/python3.11/logging/__init__.py\", line 377, in getMessage\n",
      "    msg = msg % self.args\n",
      "          ~~~~^~~~~~~~~~~\n",
      "TypeError: not all arguments converted during string formatting\n",
      "Call stack:\n",
      "  File \"<frozen runpy>\", line 198, in _run_module_as_main\n",
      "  File \"<frozen runpy>\", line 88, in _run_code\n",
      "  File \"/home/quanghung20gg/anaconda3/lib/python3.11/site-packages/ipykernel_launcher.py\", line 17, in <module>\n",
      "    app.launch_new_instance()\n",
      "  File \"/home/quanghung20gg/anaconda3/lib/python3.11/site-packages/traitlets/config/application.py\", line 992, in launch_instance\n",
      "    app.start()\n",
      "  File \"/home/quanghung20gg/anaconda3/lib/python3.11/site-packages/ipykernel/kernelapp.py\", line 701, in start\n",
      "    self.io_loop.start()\n",
      "  File \"/home/quanghung20gg/anaconda3/lib/python3.11/site-packages/tornado/platform/asyncio.py\", line 195, in start\n",
      "    self.asyncio_loop.run_forever()\n",
      "  File \"/home/quanghung20gg/anaconda3/lib/python3.11/asyncio/base_events.py\", line 607, in run_forever\n",
      "    self._run_once()\n",
      "  File \"/home/quanghung20gg/anaconda3/lib/python3.11/asyncio/base_events.py\", line 1922, in _run_once\n",
      "    handle._run()\n",
      "  File \"/home/quanghung20gg/anaconda3/lib/python3.11/asyncio/events.py\", line 80, in _run\n",
      "    self._context.run(self._callback, *self._args)\n",
      "  File \"/home/quanghung20gg/anaconda3/lib/python3.11/site-packages/ipykernel/kernelbase.py\", line 534, in dispatch_queue\n",
      "    await self.process_one()\n",
      "  File \"/home/quanghung20gg/anaconda3/lib/python3.11/site-packages/ipykernel/kernelbase.py\", line 523, in process_one\n",
      "    await dispatch(*args)\n",
      "  File \"/home/quanghung20gg/anaconda3/lib/python3.11/site-packages/ipykernel/kernelbase.py\", line 429, in dispatch_shell\n",
      "    await result\n",
      "  File \"/home/quanghung20gg/anaconda3/lib/python3.11/site-packages/ipykernel/kernelbase.py\", line 767, in execute_request\n",
      "    reply_content = await reply_content\n",
      "  File \"/home/quanghung20gg/anaconda3/lib/python3.11/site-packages/ipykernel/ipkernel.py\", line 429, in do_execute\n",
      "    res = shell.run_cell(\n",
      "  File \"/home/quanghung20gg/anaconda3/lib/python3.11/site-packages/ipykernel/zmqshell.py\", line 549, in run_cell\n",
      "    return super().run_cell(*args, **kwargs)\n",
      "  File \"/home/quanghung20gg/anaconda3/lib/python3.11/site-packages/IPython/core/interactiveshell.py\", line 3051, in run_cell\n",
      "    result = self._run_cell(\n",
      "  File \"/home/quanghung20gg/anaconda3/lib/python3.11/site-packages/IPython/core/interactiveshell.py\", line 3106, in _run_cell\n",
      "    result = runner(coro)\n",
      "  File \"/home/quanghung20gg/anaconda3/lib/python3.11/site-packages/IPython/core/async_helpers.py\", line 129, in _pseudo_sync_runner\n",
      "    coro.send(None)\n",
      "  File \"/home/quanghung20gg/anaconda3/lib/python3.11/site-packages/IPython/core/interactiveshell.py\", line 3311, in run_cell_async\n",
      "    has_raised = await self.run_ast_nodes(code_ast.body, cell_name,\n",
      "  File \"/home/quanghung20gg/anaconda3/lib/python3.11/site-packages/IPython/core/interactiveshell.py\", line 3493, in run_ast_nodes\n",
      "    if await self.run_code(code, result, async_=asy):\n",
      "  File \"/home/quanghung20gg/anaconda3/lib/python3.11/site-packages/IPython/core/interactiveshell.py\", line 3553, in run_code\n",
      "    exec(code_obj, self.user_global_ns, self.user_ns)\n",
      "  File \"/tmp/ipykernel_74186/787516691.py\", line 21, in <module>\n",
      "    scoring_bot.generate_response(essay_topic, student_response, is_rescore=is_rescore)\n",
      "  File \"/home/quanghung20gg/Documents/hung20gg/ielts_scoring/bot.py\", line 337, in generate_response\n",
      "    adjusted_output = self._until_correct()\n",
      "  File \"/home/quanghung20gg/Documents/hung20gg/ielts_scoring/bot.py\", line 269, in _until_correct\n",
      "    result = self._incorrect_data2()\n",
      "  File \"/home/quanghung20gg/Documents/hung20gg/ielts_scoring/bot.py\", line 189, in _incorrect_data2\n",
      "    output = self.pipe(self.messages, **self.generation_args)\n",
      "  File \"/home/quanghung20gg/anaconda3/lib/python3.11/site-packages/transformers/pipelines/text_generation.py\", line 235, in __call__\n",
      "    return super().__call__(Chat(text_inputs), **kwargs)\n",
      "  File \"/home/quanghung20gg/anaconda3/lib/python3.11/site-packages/transformers/pipelines/base.py\", line 1167, in __call__\n",
      "    logger.warning_once(\n",
      "  File \"/home/quanghung20gg/anaconda3/lib/python3.11/site-packages/transformers/utils/logging.py\", line 329, in warning_once\n",
      "    self.warning(*args, **kwargs)\n",
      "Message: 'You seem to be using the pipelines sequentially on GPU. In order to maximize efficiency please use a dataset'\n",
      "Arguments: (<class 'UserWarning'>,)\n"
     ]
    },
    {
     "name": "stdout",
     "output_type": "stream",
     "text": [
      "______Adjusting score 1_______\n",
      "Inconsistent scoring\n",
      "______Adjusting score 1_______\n",
      "Inconsistent scoring\n",
      "______Adjusting score 2_______\n",
      "Inconsistent scoring\n",
      "______Adjusting score 1_______\n",
      "Inconsistent scoring\n",
      "______Adjusting score 1_______\n",
      "Inconsistent scoring\n",
      "______Adjusting score 1_______\n",
      "Inconsistent scoring\n",
      "______Adjusting score 1_______\n",
      "Inconsistent scoring\n",
      "______Adjusting score 1_______\n",
      "Inconsistent scoring\n",
      "______Adjusting score 2_______\n",
      "Inconsistent scoring\n",
      "______Adjusting score 1_______\n",
      "Inconsistent scoring\n",
      "______Adjusting score 1_______\n",
      "Inconsistent scoring\n",
      "______Adjusting score 1_______\n",
      "Inconsistent scoring\n",
      "______Adjusting score 1_______\n",
      "Inconsistent scoring\n",
      "______Adjusting score 2_______\n",
      "Inconsistent scoring\n",
      "______Adjusting score 1_______\n",
      "Inconsistent scoring\n",
      "______Adjusting score 2_______\n",
      "Inconsistent scoring\n",
      "______Adjusting score 3_______\n",
      "______Adjusting score 4_______\n",
      "Inconsistent scoring\n",
      "Unexpected exception formatting exception. Falling back to standard exception\n"
     ]
    },
    {
     "name": "stderr",
     "output_type": "stream",
     "text": [
      "Traceback (most recent call last):\n",
      "  File \"/home/quanghung20gg/anaconda3/lib/python3.11/site-packages/IPython/core/interactiveshell.py\", line 3553, in run_code\n",
      "    exec(code_obj, self.user_global_ns, self.user_ns)\n",
      "  File \"/tmp/ipykernel_74186/787516691.py\", line 21, in <module>\n",
      "    scoring_bot.generate_response(essay_topic, student_response, is_rescore=is_rescore)\n",
      "  File \"/home/quanghung20gg/Documents/hung20gg/ielts_scoring/bot.py\", line 345, in generate_response\n",
      "    if not self.is_rag:\n",
      "        ^^^^^^^^^^^^^^^\n",
      "  File \"/home/quanghung20gg/Documents/hung20gg/ielts_scoring/bot.py\", line 209, in _rescore\n",
      "  File \"/home/quanghung20gg/anaconda3/lib/python3.11/site-packages/transformers/pipelines/text_generation.py\", line 235, in __call__\n",
      "    return super().__call__(Chat(text_inputs), **kwargs)\n",
      "           ^^^^^^^^^^^^^^^^^^^^^^^^^^^^^^^^^^^^^^^^^^^^^\n",
      "  File \"/home/quanghung20gg/anaconda3/lib/python3.11/site-packages/transformers/pipelines/base.py\", line 1206, in __call__\n",
      "    return self.run_single(inputs, preprocess_params, forward_params, postprocess_params)\n",
      "           ^^^^^^^^^^^^^^^^^^^^^^^^^^^^^^^^^^^^^^^^^^^^^^^^^^^^^^^^^^^^^^^^^^^^^^^^^^^^^^\n",
      "  File \"/home/quanghung20gg/anaconda3/lib/python3.11/site-packages/transformers/pipelines/base.py\", line 1213, in run_single\n",
      "    model_outputs = self.forward(model_inputs, **forward_params)\n",
      "                    ^^^^^^^^^^^^^^^^^^^^^^^^^^^^^^^^^^^^^^^^^^^^\n",
      "  File \"/home/quanghung20gg/anaconda3/lib/python3.11/site-packages/transformers/pipelines/base.py\", line 1112, in forward\n",
      "    model_outputs = self._forward(model_inputs, **forward_params)\n",
      "                    ^^^^^^^^^^^^^^^^^^^^^^^^^^^^^^^^^^^^^^^^^^^^^\n",
      "  File \"/home/quanghung20gg/anaconda3/lib/python3.11/site-packages/transformers/pipelines/text_generation.py\", line 327, in _forward\n",
      "    generated_sequence = self.model.generate(input_ids=input_ids, attention_mask=attention_mask, **generate_kwargs)\n",
      "                         ^^^^^^^^^^^^^^^^^^^^^^^^^^^^^^^^^^^^^^^^^^^^^^^^^^^^^^^^^^^^^^^^^^^^^^^^^^^^^^^^^^^^^^^^^^\n",
      "  File \"/home/quanghung20gg/anaconda3/lib/python3.11/site-packages/torch/utils/_contextlib.py\", line 115, in decorate_context\n",
      "    return func(*args, **kwargs)\n",
      "           ^^^^^^^^^^^^^^^^^^^^^\n",
      "  File \"/home/quanghung20gg/anaconda3/lib/python3.11/site-packages/transformers/generation/utils.py\", line 1575, in generate\n",
      "    result = self._sample(\n",
      "             ^^^^^^^^^^^^^\n",
      "  File \"/home/quanghung20gg/anaconda3/lib/python3.11/site-packages/transformers/generation/utils.py\", line 2697, in _sample\n",
      "    outputs = self(\n",
      "              ^^^^^\n",
      "  File \"/home/quanghung20gg/anaconda3/lib/python3.11/site-packages/torch/nn/modules/module.py\", line 1511, in _wrapped_call_impl\n",
      "    return self._call_impl(*args, **kwargs)\n",
      "           ^^^^^^^^^^^^^^^^^^^^^^^^^^^^^^^^\n",
      "  File \"/home/quanghung20gg/anaconda3/lib/python3.11/site-packages/torch/nn/modules/module.py\", line 1520, in _call_impl\n",
      "    return forward_call(*args, **kwargs)\n",
      "           ^^^^^^^^^^^^^^^^^^^^^^^^^^^^^\n",
      "  File \"/home/quanghung20gg/anaconda3/lib/python3.11/site-packages/accelerate/hooks.py\", line 166, in new_forward\n",
      "    output = module._old_forward(*args, **kwargs)\n",
      "             ^^^^^^^^^^^^^^^^^^^^^^^^^^^^^^^^^^^^\n",
      "  File \"/home/quanghung20gg/anaconda3/lib/python3.11/site-packages/transformers/models/llama/modeling_llama.py\", line 1196, in forward\n",
      "    outputs = self.model(\n",
      "              ^^^^^^^^^^^\n",
      "  File \"/home/quanghung20gg/anaconda3/lib/python3.11/site-packages/torch/nn/modules/module.py\", line 1511, in _wrapped_call_impl\n",
      "    return self._call_impl(*args, **kwargs)\n",
      "           ^^^^^^^^^^^^^^^^^^^^^^^^^^^^^^^^\n",
      "  File \"/home/quanghung20gg/anaconda3/lib/python3.11/site-packages/torch/nn/modules/module.py\", line 1520, in _call_impl\n",
      "    return forward_call(*args, **kwargs)\n",
      "           ^^^^^^^^^^^^^^^^^^^^^^^^^^^^^\n",
      "  File \"/home/quanghung20gg/anaconda3/lib/python3.11/site-packages/accelerate/hooks.py\", line 166, in new_forward\n",
      "    output = module._old_forward(*args, **kwargs)\n",
      "             ^^^^^^^^^^^^^^^^^^^^^^^^^^^^^^^^^^^^\n",
      "  File \"/home/quanghung20gg/anaconda3/lib/python3.11/site-packages/transformers/models/llama/modeling_llama.py\", line 1016, in forward\n",
      "    layer_outputs = decoder_layer(\n",
      "                    ^^^^^^^^^^^^^^\n",
      "  File \"/home/quanghung20gg/anaconda3/lib/python3.11/site-packages/torch/nn/modules/module.py\", line 1511, in _wrapped_call_impl\n",
      "    return self._call_impl(*args, **kwargs)\n",
      "           ^^^^^^^^^^^^^^^^^^^^^^^^^^^^^^^^\n",
      "  File \"/home/quanghung20gg/anaconda3/lib/python3.11/site-packages/torch/nn/modules/module.py\", line 1520, in _call_impl\n",
      "    return forward_call(*args, **kwargs)\n",
      "           ^^^^^^^^^^^^^^^^^^^^^^^^^^^^^\n",
      "  File \"/home/quanghung20gg/anaconda3/lib/python3.11/site-packages/accelerate/hooks.py\", line 166, in new_forward\n",
      "    output = module._old_forward(*args, **kwargs)\n",
      "             ^^^^^^^^^^^^^^^^^^^^^^^^^^^^^^^^^^^^\n",
      "  File \"/home/quanghung20gg/anaconda3/lib/python3.11/site-packages/transformers/models/llama/modeling_llama.py\", line 739, in forward\n",
      "    hidden_states, self_attn_weights, present_key_value = self.self_attn(\n",
      "                                                          ^^^^^^^^^^^^^^^\n",
      "  File \"/home/quanghung20gg/anaconda3/lib/python3.11/site-packages/torch/nn/modules/module.py\", line 1511, in _wrapped_call_impl\n",
      "    return self._call_impl(*args, **kwargs)\n",
      "           ^^^^^^^^^^^^^^^^^^^^^^^^^^^^^^^^\n",
      "  File \"/home/quanghung20gg/anaconda3/lib/python3.11/site-packages/torch/nn/modules/module.py\", line 1520, in _call_impl\n",
      "    return forward_call(*args, **kwargs)\n",
      "           ^^^^^^^^^^^^^^^^^^^^^^^^^^^^^\n",
      "  File \"/home/quanghung20gg/anaconda3/lib/python3.11/site-packages/accelerate/hooks.py\", line 166, in new_forward\n",
      "    output = module._old_forward(*args, **kwargs)\n",
      "             ^^^^^^^^^^^^^^^^^^^^^^^^^^^^^^^^^^^^\n",
      "  File \"/home/quanghung20gg/anaconda3/lib/python3.11/site-packages/transformers/models/llama/modeling_llama.py\", line 681, in forward\n",
      "    attn_output = self.o_proj(attn_output)\n",
      "                  ^^^^^^^^^^^^^^^^^^^^^^^^\n",
      "  File \"/home/quanghung20gg/anaconda3/lib/python3.11/site-packages/torch/nn/modules/module.py\", line 1511, in _wrapped_call_impl\n",
      "    return self._call_impl(*args, **kwargs)\n",
      "           ^^^^^^^^^^^^^^^^^^^^^^^^^^^^^^^^\n",
      "  File \"/home/quanghung20gg/anaconda3/lib/python3.11/site-packages/torch/nn/modules/module.py\", line 1520, in _call_impl\n",
      "    return forward_call(*args, **kwargs)\n",
      "           ^^^^^^^^^^^^^^^^^^^^^^^^^^^^^\n",
      "  File \"/home/quanghung20gg/anaconda3/lib/python3.11/site-packages/accelerate/hooks.py\", line 166, in new_forward\n",
      "    output = module._old_forward(*args, **kwargs)\n",
      "             ^^^^^^^^^^^^^^^^^^^^^^^^^^^^^^^^^^^^\n",
      "  File \"/home/quanghung20gg/anaconda3/lib/python3.11/site-packages/bitsandbytes/nn/modules.py\", line 797, in forward\n",
      "    out = bnb.matmul(x, self.weight, bias=self.bias, state=self.state)\n",
      "          ^^^^^^^^^^^^^^^^^^^^^^^^^^^^^^^^^^^^^^^^^^^^^^^^^^^^^^^^^^^^\n",
      "  File \"/home/quanghung20gg/anaconda3/lib/python3.11/site-packages/bitsandbytes/autograd/_functions.py\", line 556, in matmul\n",
      "    return MatMul8bitLt.apply(A, B, out, bias, state)\n",
      "           ^^^^^^^^^^^^^^^^^^^^^^^^^^^^^^^^^^^^^^^^^^\n",
      "  File \"/home/quanghung20gg/anaconda3/lib/python3.11/site-packages/torch/autograd/function.py\", line 553, in apply\n",
      "    return super().apply(*args, **kwargs)  # type: ignore[misc]\n",
      "           ^^^^^^^^^^^^^^^^^^^^^^^^^^^^^^\n",
      "  File \"/home/quanghung20gg/anaconda3/lib/python3.11/site-packages/bitsandbytes/autograd/_functions.py\", line 321, in forward\n",
      "    CA, CAt, SCA, SCAt, coo_tensorA = F.double_quant(A.to(torch.float16), threshold=state.threshold)\n",
      "                                      ^^^^^^^^^^^^^^^^^^^^^^^^^^^^^^^^^^^^^^^^^^^^^^^^^^^^^^^^^^^^^^\n",
      "  File \"/home/quanghung20gg/anaconda3/lib/python3.11/site-packages/bitsandbytes/functional.py\", line 2519, in double_quant\n",
      "    row_stats, col_stats, nnz_row_ptr = get_colrow_absmax(A, threshold=threshold)\n",
      "                                        ^^^^^^^^^^^^^^^^^^^^^^^^^^^^^^^^^^^^^^^^^\n",
      "  File \"/home/quanghung20gg/anaconda3/lib/python3.11/site-packages/bitsandbytes/functional.py\", line 2402, in get_colrow_absmax\n",
      "    row_stats = torch.empty((rows,), dtype=torch.float32, device=device).fill_(-50000.0)\n",
      "                ^^^^^^^^^^^^^^^^^^^^^^^^^^^^^^^^^^^^^^^^^^^^^^^^^^^^^^^^\n",
      "KeyboardInterrupt\n",
      "\n",
      "During handling of the above exception, another exception occurred:\n",
      "\n",
      "Traceback (most recent call last):\n",
      "  File \"/home/quanghung20gg/anaconda3/lib/python3.11/site-packages/IPython/core/interactiveshell.py\", line 2144, in showtraceback\n",
      "    stb = self.InteractiveTB.structured_traceback(\n",
      "          ^^^^^^^^^^^^^^^^^^^^^^^^^^^^^^^^^^^^^^^^\n",
      "  File \"/home/quanghung20gg/anaconda3/lib/python3.11/site-packages/IPython/core/ultratb.py\", line 1435, in structured_traceback\n",
      "    return FormattedTB.structured_traceback(\n",
      "           ^^^^^^^^^^^^^^^^^^^^^^^^^^^^^^^^^\n",
      "  File \"/home/quanghung20gg/anaconda3/lib/python3.11/site-packages/IPython/core/ultratb.py\", line 1326, in structured_traceback\n",
      "    return VerboseTB.structured_traceback(\n",
      "           ^^^^^^^^^^^^^^^^^^^^^^^^^^^^^^^\n",
      "  File \"/home/quanghung20gg/anaconda3/lib/python3.11/site-packages/IPython/core/ultratb.py\", line 1173, in structured_traceback\n",
      "    formatted_exception = self.format_exception_as_a_whole(etype, evalue, etb, number_of_lines_of_context,\n",
      "                          ^^^^^^^^^^^^^^^^^^^^^^^^^^^^^^^^^^^^^^^^^^^^^^^^^^^^^^^^^^^^^^^^^^^^^^^^^^^^^^^^\n",
      "  File \"/home/quanghung20gg/anaconda3/lib/python3.11/site-packages/IPython/core/ultratb.py\", line 1088, in format_exception_as_a_whole\n",
      "    frames.append(self.format_record(record))\n",
      "                  ^^^^^^^^^^^^^^^^^^^^^^^^^^\n",
      "  File \"/home/quanghung20gg/anaconda3/lib/python3.11/site-packages/IPython/core/ultratb.py\", line 970, in format_record\n",
      "    frame_info.lines, Colors, self.has_colors, lvals\n",
      "    ^^^^^^^^^^^^^^^^\n",
      "  File \"/home/quanghung20gg/anaconda3/lib/python3.11/site-packages/IPython/core/ultratb.py\", line 792, in lines\n",
      "    return self._sd.lines\n",
      "           ^^^^^^^^^^^^^^\n",
      "  File \"/home/quanghung20gg/anaconda3/lib/python3.11/site-packages/stack_data/utils.py\", line 145, in cached_property_wrapper\n",
      "    value = obj.__dict__[self.func.__name__] = self.func(obj)\n",
      "                                               ^^^^^^^^^^^^^^\n",
      "  File \"/home/quanghung20gg/anaconda3/lib/python3.11/site-packages/stack_data/core.py\", line 698, in lines\n",
      "    pieces = self.included_pieces\n",
      "             ^^^^^^^^^^^^^^^^^^^^\n",
      "  File \"/home/quanghung20gg/anaconda3/lib/python3.11/site-packages/stack_data/utils.py\", line 145, in cached_property_wrapper\n",
      "    value = obj.__dict__[self.func.__name__] = self.func(obj)\n",
      "                                               ^^^^^^^^^^^^^^\n",
      "  File \"/home/quanghung20gg/anaconda3/lib/python3.11/site-packages/stack_data/core.py\", line 649, in included_pieces\n",
      "    pos = scope_pieces.index(self.executing_piece)\n",
      "                             ^^^^^^^^^^^^^^^^^^^^\n",
      "  File \"/home/quanghung20gg/anaconda3/lib/python3.11/site-packages/stack_data/utils.py\", line 145, in cached_property_wrapper\n",
      "    value = obj.__dict__[self.func.__name__] = self.func(obj)\n",
      "                                               ^^^^^^^^^^^^^^\n",
      "  File \"/home/quanghung20gg/anaconda3/lib/python3.11/site-packages/stack_data/core.py\", line 628, in executing_piece\n",
      "    return only(\n",
      "           ^^^^^\n",
      "  File \"/home/quanghung20gg/anaconda3/lib/python3.11/site-packages/executing/executing.py\", line 164, in only\n",
      "    raise NotOneValueFound('Expected one value, found 0')\n",
      "executing.executing.NotOneValueFound: Expected one value, found 0\n"
     ]
    }
   ],
   "source": [
    "for is_rag in [False]:\n",
    "    if is_rag:\n",
    "        scoring_bot.setup_rag()\n",
    "    else:\n",
    "        scoring_bot.remove_rag()\n",
    "    for criteria in [False, True]:\n",
    "        scoring_bot.change_system_prompt_criteria(criteria)\n",
    "        for is_rescore in [True ,False]:\n",
    "            y = []\n",
    "            y_pred = []\n",
    "            \n",
    "            for dir in dirs:\n",
    "                with open(f'{EXAMPLES}/{dir}/question.txt', 'r') as f:\n",
    "                    essay_topic = f.read()\n",
    "\n",
    "                with open(f'{EXAMPLES}/{dir}/answer.txt', 'r') as f:\n",
    "                    student_response = f.read()\n",
    "                    \n",
    "                score = float(dir.split('_')[-1])\n",
    "                y.append(score)\n",
    "                scoring_bot.generate_response(essay_topic, student_response, is_rescore=is_rescore)\n",
    "                y_pred.append(scoring_bot.general)\n",
    "                \n",
    "                scoring_bot.clear_messages()\n",
    "                \n",
    "            y = np.array(y)\n",
    "            y_pred = np.array(y_pred)\n",
    "            \n",
    "            y_true.append(y)\n",
    "            y_preds.append(y_pred)\n",
    "            \n",
    "            print(f'is_rag: {is_rag} is_rescore: {is_rescore}, criteria: {criteria}, MSE: {np.mean((y - y_pred)**2)}')\n"
   ]
  },
  {
   "cell_type": "code",
   "execution_count": 16,
   "metadata": {},
   "outputs": [
    {
     "data": {
      "text/plain": [
       "([6.0, 6.5, 7.0, 7.0, 6.5, 4.0, 4.5, 6.5, 6.5, 7.0],\n",
       " [7.5, 6.5, 4.5, 7.0, 6.0, 5.0, 5.0, 6.5, 7.0])"
      ]
     },
     "execution_count": 16,
     "metadata": {},
     "output_type": "execute_result"
    }
   ],
   "source": [
    "y, y_pred"
   ]
  },
  {
   "cell_type": "code",
   "execution_count": 21,
   "metadata": {},
   "outputs": [
    {
     "name": "stdout",
     "output_type": "stream",
     "text": [
      "[8.  6.5 7.  6.  7.  4.  5.  6.  6.5 6.5 6.5 6. ]\n"
     ]
    },
    {
     "data": {
      "text/plain": [
       "0.4791666666666667"
      ]
     },
     "execution_count": 21,
     "metadata": {},
     "output_type": "execute_result"
    }
   ],
   "source": [
    "print(y_preds[6])\n",
    "yy = (((y_preds[4] + y_preds[6])*2)//2)/2\n",
    "np.mean((y_true[4] - yy)**2)"
   ]
  },
  {
   "cell_type": "code",
   "execution_count": 6,
   "metadata": {},
   "outputs": [
    {
     "name": "stderr",
     "output_type": "stream",
     "text": [
      "Setting `pad_token_id` to `eos_token_id`:128001 for open-end generation.\n"
     ]
    },
    {
     "name": "stderr",
     "output_type": "stream",
     "text": [
      "Setting `pad_token_id` to `eos_token_id`:128001 for open-end generation.\n"
     ]
    },
    {
     "name": "stdout",
     "output_type": "stream",
     "text": [
      "______Adjusting score 1_______\n",
      "Inconsistent scoring\n"
     ]
    },
    {
     "name": "stderr",
     "output_type": "stream",
     "text": [
      "Setting `pad_token_id` to `eos_token_id`:128001 for open-end generation.\n",
      "Setting `pad_token_id` to `eos_token_id`:128001 for open-end generation.\n"
     ]
    },
    {
     "name": "stdout",
     "output_type": "stream",
     "text": [
      "______Adjusting score 1_______\n",
      "Inconsistent scoring\n"
     ]
    }
   ],
   "source": [
    "response = scoring_bot.generate_response(essay_topic, student_response, is_rescore=True)"
   ]
  },
  {
   "cell_type": "code",
   "execution_count": 7,
   "metadata": {},
   "outputs": [
    {
     "data": {
      "text/plain": [
       "[{'role': 'system',\n",
       "  'content': \"\\n    You are an English teaching assistant, and you are good at grading essays, and your students need you for their IELTS Academic essay task 2. You will be given the topic and student's response.\\n    You should grade the essay general score and in 4 metrics in IELTS Writing, which are `Task Response`, `Coherence and Cohesion`, `Lexical Resource` and `Grammatical Range and Accuracy`. \\n    The overall score can be a float between 0 and 9 (round to .5), but each metric score should be an integer between 0 and 9.\\n\\n    Recall the IELTS Writing band score criteria\\n\\n    Here are the criteria for each metric at each band score:\\n    Recall the criteria for each metric in common band score:\\n\\n**Task Response:**\\nBand 8:\\nThe prompt is appropriately and sufficiently addressed.\\nA clear and well-developed position is presented in response to the question.\\nIdeas are relevant, well extended and supported.\\nThere may be occasional omissions or lapses in content.\\n\\nBand 7:\\nThe main parts of the prompt are appropriately addressed.\\nA clear and developed position is presented.\\nMain ideas are extended and supported but there may be a tendency to over-generalise or there may be a lack of focus and precision in supporting ideas/material.\\n\\nBand 6:\\nThe main parts of the prompt are addressed (though some may be more fully covered than others). An appropriate format is used.\\nA position is presented that is directly relevant to the prompt, although the conclusions drawn may be unclear, unjustified or repetitive.\\nMain ideas are relevant, but some may be insufficiently developed or may lack clarity, while some supporting arguments and evidence may be less relevant or inadequate.\\n\\nBand 5:\\nThe main parts of the prompt are incompletely addressed. The format may be inappropriate in places.\\nThe writer expresses a position, but the development is not always clear.\\nSome main ideas are put forward, but they are limited and are not sufficiently developed and/or there may be irrelevant detail.\\nThere may be some repetition.\\n\\nBand 4:\\nThe prompt is tackled in a minimal way, or the answer is tangential, possibly due to some misunderstanding of the prompt. The format may be inappropriate.\\nA position is discernible, but the reader has to read carefully to find it.\\nMain ideas are difficult to identify and such ideas that are identifiable may lack relevance, clarity and/or support.\\nLarge parts of the response may be repetitive.\\n\\n**Coherence and cohesion**\\nBand 8:\\nThe message can be followed with ease.\\nInformation and ideas are logically sequenced, and cohesion is well managed.\\nOccasional lapses in coherence and cohesion may occur.\\nParagraphing is used sufficiently and appropriately.\\n\\nBand 7:\\nInformation and ideas are logically organised, and there is a clear progression throughout the response. (A few lapses may occur, but these are minor.)\\nA range of cohesive devices including reference and substitution is used flexibly but with some inaccuracies or some over/under use.\\nParagraphing is generally used effectively to support overall coherence, and the sequencing of ideas within a paragraph is generally logical.\\n\\nBand 6:\\nInformation and ideas are generally arranged coherently and there is a clear overall progression.\\nCohesive devices are used to some good effect but cohesion within and/or between sentences may be faulty or mechanical due to misuse, overuse or omission.\\nThe use of reference and substitution may lack flexibility or clarity and result in some repetition or error.\\nParagraphing may not always be logical and/or the central topic may not always be clear.\\n\\nBand 5:\\nOrganisation is evident but is not wholly logical and there may be a lack of overall progression. Nevertheless, there is a sense of underlying coherence to the response.\\nThe relationship of ideas can be followed but the sentences are not fluently linked to each other.\\nThere may be limited/overuse of cohesive devices with some inaccuracy.\\nThe writing may be repetitive due to inadequate and/or inaccurate use of reference and substitution.\\nParagraphing may be inadequate or missing.\\n\\nBand 4:\\nInformation and ideas are evident but not arranged coherently and there is no clear progression within the response.\\nRelationships between ideas can be unclear and/or inadequately marked. There is some use of basic cohesive devices, which may be inaccurate or repetitive.\\nThere is inaccurate use or a lack of substitution or referencing.\\nThere may be no paragraphing and/or no clear main topic within paragraphs.\\n\\n**Lexical resource**\\nBand 8:\\nA wide resource is fluently and flexibly used to convey precise meanings.\\nThere is skilful use of uncommon and/or idiomatic items when appropriate, despite occasional inaccuracies in word choice and collocation.\\nOccasional errors in spelling and/or word formation may occur, but have minimal impact on communication.\\n\\nBand 7:\\nInformation and ideas are logically organised, and there is a clear progression throughout the response. (A few lapses may occur, but these are minor.)\\nA range of cohesive devices including reference and substitution is used flexibly but with some inaccuracies or some over/under use.\\nParagraphing is generally used effectively to support overall coherence, and the sequencing of ideas within a paragraph is generally logical.\\n\\nBand 6:\\nThe resource is generally adequate and appropriate for the task.\\nThe meaning is generally clear in spite of a rather restricted range or a lack of precision in word choice.\\nIf the writer is a risk-taker, there will be a wider range of vocabulary used but higher degrees of inaccuracy or inappropriacy.\\nThere are some errors in spelling and/or word formation, but these do not impede communication.\\n\\nBand 5:\\nThe resource is limited but minimally adequate for the task.\\nSimple vocabulary may be used accurately but the range does not permit much variation in expression.\\nThere may be frequent lapses in the appropriacy of word choice and a lack of flexibility is apparent in frequent simplifications and/or repetitions.\\nErrors in spelling and/or word formation may be noticeable and may cause some difficulty for the reader.\\n\\nBand 4:\\nThe resource is limited and inadequate for or unrelated to the task. Vocabulary is basic and may be used repetitively.\\nThere may be inappropriate use of lexical chunks (e.g. memorised phrases, formulaic language and/or language from the input material).\\nInappropriate word choice and/or errors in word formation and/or in spelling may impede meaning\\n\\n**Grammatical range and accuracy**\\nBand 8:\\nA wide range of structures is flexibly and accurately used.\\nThe majority of sentences are error-free, and punctuation is well managed.\\nOccasional, non-systematic errors and inappropriacies occur, but have minimal impact on communication\\n\\nBand 7:\\nA variety of complex structures is used with some flexibility and accuracy.\\nGrammar and punctuation are generally well controlled, and error-free sentences are frequent.\\nA few errors in grammar may persist, but these do not impede communication.\\n\\nBand 6:\\nA mix of simple and complex sentence forms is used but flexibility is limited.\\nExamples of more complex structures are not marked by the same level of accuracy as in simple structures.\\nErrors in grammar and punctuation occur, but rarely impede communication\\n\\nBand 5:\\nThe range of structures is limited and rather repetitive.\\nAlthough complex sentences are attempted, they tend to be faulty, and the greatest accuracy is achieved on simple sentences.\\nGrammatical errors may be frequent and cause some difficulty for the reader.\\nPunctuation may be faulty.\\n\\nBand 4:\\nA very limited range of structures is used.\\nSubordinate clauses are rare and simple sentences predominate.\\nSome structures are produced accurately but grammatical errors are frequent and may impede meaning.\\nPunctuation is often faulty or inadequate.\\n\\n    In each metric, you should give a detailed explanation and point out exactly the student mistakes that led to that score.\\n    Your output format should be like this:\\n    **General: score**\\nOverall Explanation:\\n`Your detailed explanation`\\n**metric_name : score**\\nExplanation: \\n`Your detailed explanation`\\n\\nFor example:\\n**General: 7**\\nOverall Explanation: Your explanation\\n**Task Response: 6**\\nExplanation: Your explanation\\n**Coherence and Cohesion: 7**\\nExplanation: Your explanation\\n**Lexical Resource: 8**\\nExplanation: Your explanation\\n**Grammatical Range and Accuracy: 7**\\nExplanation: Your explanation\\n\\n    - The overall score should be the mean value of 4 metric scores, round down to .0 and .5, so make sure your evaluation right.\\n    - Provide constructive feedback.\\n    \"},\n",
       " {'role': 'user',\n",
       "  'content': '\\n    You will have to grade this essay in IELTS WRITING task 2 academic guideline\\n    Here is the topic of the essay: In some countries, more people are becoming interested in finding out about the history of the house or building they live in.\\nWhat are the reasons for this?\\nHow can people research this question?\\n    And here is my essay: In many nations, people are developing craze to know about the history of place they live in. The current essay discusses few reasons behind this phenomenon.\\nThere are two main reasons for this phenomenon. As we all know, human nature is full of curiosity. So, everyone who live in a house wants to know about the history of it. However, there are multiple reasons against such otidid. First one is, different problems they are facing always tend them to inquire about the oldness of their place of residence and what are the causes of those issues. Secondly, firmness of building is another strong rational, about which residents are highly concerned. They really want to know the potential of structure and its reliability. People also wonder about has lived in this building before them and what were their experiences related to the place.\\nThere are many methods to discover above mentioned curiosities. Firstly, people can check the history of building in public records. In this way they are able to know who built this building and all other confusions related to the potential soundness of building. Secondly, the most easiest way to inquire is, they can ask neighbors whatever information they want to seek about building.\\nIn conclusion, the primary reason why most people are concerned about background of building they live in is because they are much concerned over the soundness of structure of building and it’s out of natural curiosity. the best way to unearth this information is to ask neighbors or to search public records of the building.\\n    Make sure that you follow the IELTS WRITING task 2 guideline to grade this essay, and do the correct evaluation of general score.\\n    '},\n",
       " {'role': 'system',\n",
       "  'content': '**General: 5.5**\\nOverall Explanation: The essay attempts to discuss the reasons behind people\\'s interest in knowing the history of their place of residence, but it lacks coherence and cohesion, and the language and grammar are not sophisticated enough to convey the writer\\'s ideas effectively.\\n\\n**Task Response: 6**\\nExplanation: The essay partially addresses the topic, but the discussion is limited and lacks depth. The writer only mentions two reasons for people\\'s interest in knowing the history of their place of residence, and the supporting evidence is limited to a few sentences. The essay also lacks a clear thesis statement and a logical structure.\\n\\n**Coherence and Cohesion: 5**\\nExplanation: The essay has some coherence, but the writer\\'s ideas are not well-organized, and the transitions between paragraphs are not smooth. The writer jumps abruptly from discussing the reasons for people\\'s interest in knowing the history of their place of residence to discussing the methods of researching this topic. The essay also lacks cohesive devices, such as linking words and phrases, to connect the ideas together.\\n\\n**Lexical Resource: 6**\\nExplanation: The writer uses a limited range of vocabulary, and the language is not sophisticated enough to convey the writer\\'s ideas effectively. The writer repeats some words and phrases, such as \"history of place they live in\" and \"background of building they live in,\" which reduces the essay\\'s coherence and cohesion. However, the writer uses some common idiomatic expressions, such as \"human nature is full of curiosity,\" which shows some awareness of lexical resource.\\n\\n**Grammatical Range and Accuracy: 5**\\nExplanation: The essay has some grammatical errors, such as subject-verb agreement errors, tense consistency errors, and incorrect use of articles. The writer also uses simple sentence structures, which limits the essay\\'s complexity and sophistication. However, the writer attempts to use some complex sentence structures, such as the one in the second paragraph, which shows some awareness of grammatical range and accuracy.\\n\\nThe overall score is calculated by averaging the scores of the four metrics, which is 5.5 in this case.'},\n",
       " {'role': 'user',\n",
       "  'content': 'Do you think you are too harsh? Your explanation for each metric seems to be too strict and may not fit with its criteria. You should reevaluate your score and remain the output format and make sure all the criteria scores is integer and only general score can be float (round to .5).'},\n",
       " {'role': 'system',\n",
       "  'content': \"I apologize for the harsh evaluation. Here is the revised evaluation:\\n\\n**General: 6.5**\\nOverall Explanation: The essay attempts to discuss the reasons behind people's interest in knowing the history of their place of residence, and while it has some limitations, it still conveys the writer's ideas reasonably well.\\n\\n**Task Response: 7**\\nExplanation: The essay partially addresses the topic, but it does so in a clear and concise manner. The writer identifies two main reasons for people's interest in knowing the history of their place of residence, and provides some supporting evidence. The essay lacks a clear thesis statement, but the writer's ideas are generally relevant to the topic.\\n\\n**Coherence and Cohesion: 6**\\nExplanation: The essay has some coherence, with the writer's ideas flowing reasonably well from one paragraph to the next. However, the transitions between paragraphs could be improved, and the writer could use more cohesive devices to connect their ideas.\\n\\n**Lexical Resource: 6**\\nExplanation: The writer uses a limited range of vocabulary, but the language is generally clear and concise. The writer repeats some words and phrases, but this does not significantly impact the essay's coherence and cohesion.\\n\\n**Grammatical Range and Accuracy: 6**\\nExplanation: The essay has some grammatical errors, but they are not significant enough to impede communication. The writer uses a mix of simple and complex sentence structures, and while there are some errors in grammar and punctuation, they are generally minor.\\n\\nI hope this revised evaluation is more accurate and fair.\"},\n",
       " {'role': 'user',\n",
       "  'content': \"Your score doesn't make sense. How can I get a 6.5 in general while I only get 7.0 in Task Response, 6.0 in Coherence and Cohesion, 6.0 in Lexical Resource and 6.0 in Grammatical Range and Accuracy, which the final result should be 6.5? You need to check the grade of my essay again, and maintain the output format\"},\n",
       " {'role': 'system',\n",
       "  'content': \"I apologize for the mistake. Here is the revised evaluation:\\n\\n**General: 6.0**\\nOverall Explanation: The essay attempts to discuss the reasons behind people's interest in knowing the history of their place of residence, and while it has some limitations, it still conveys the writer's ideas reasonably well.\\n\\n**Task Response: 7**\\nExplanation: The essay partially addresses the topic, but it does so in a clear and concise manner. The writer identifies two main reasons for people's interest in knowing the history of their place of residence, and provides some supporting evidence. The essay lacks a clear thesis statement, but the writer's ideas are generally relevant to the topic.\\n\\n**Coherence and Cohesion: 6**\\nExplanation: The essay has some coherence, with the writer's ideas flowing reasonably well from one paragraph to the next. However, the transitions between paragraphs could be improved, and the writer could use more cohesive devices to connect their ideas.\\n\\n**Lexical Resource: 6**\\nExplanation: The writer uses a limited range of vocabulary, but the language is generally clear and concise. The writer repeats some words and phrases, but this does not significantly impact the essay's coherence and cohesion.\\n\\n**Grammatical Range and Accuracy: 6**\\nExplanation: The essay has some grammatical errors, but they are not significant enough to impede communication. The writer uses a mix of simple and complex sentence structures, and while there are some errors in grammar and punctuation, they are generally minor.\\n\\nThe overall score is calculated by averaging the scores of the four metrics, which is 6.0 in this case.\"}]"
      ]
     },
     "execution_count": 7,
     "metadata": {},
     "output_type": "execute_result"
    }
   ],
   "source": [
    "scoring_bot.get_message()"
   ]
  },
  {
   "cell_type": "code",
   "execution_count": 8,
   "metadata": {},
   "outputs": [
    {
     "name": "stdout",
     "output_type": "stream",
     "text": [
      "**General: 6.0**\n",
      "Overall Explanation: The essay attempts to discuss the reasons behind people's interest in knowing the history of their place of residence, and while it has some limitations, it still conveys the writer's ideas reasonably well.\n",
      "\n",
      "**Task Response: 7**\n",
      "Explanation: The essay partially addresses the topic, but it does so in a clear and concise manner. The writer identifies two main reasons for people's interest in knowing the history of their place of residence, and provides some supporting evidence. The essay lacks a clear thesis statement, but the writer's ideas are generally relevant to the topic.\n",
      "\n",
      "**Coherence and Cohesion: 6**\n",
      "Explanation: The essay has some coherence, with the writer's ideas flowing reasonably well from one paragraph to the next. However, the transitions between paragraphs could be improved, and the writer could use more cohesive devices to connect their ideas.\n",
      "\n",
      "**Lexical Resource: 6**\n",
      "Explanation: The writer uses a limited range of vocabulary, but the language is generally clear and concise. The writer repeats some words and phrases, but this does not significantly impact the essay's coherence and cohesion.\n",
      "\n",
      "**Grammatical Range and Accuracy: 6**\n",
      "Explanation: The essay has some grammatical errors, but they are not significant enough to impede communication. The writer uses a mix of simple and complex sentence structures, and while there are some errors in grammar and punctuation, they are generally minor.\n",
      "\n",
      "The overall score is calculated by averaging the scores of the four metrics, which is 6.0 in this case.\n"
     ]
    }
   ],
   "source": [
    "print(response)"
   ]
  },
  {
   "cell_type": "code",
   "execution_count": 9,
   "metadata": {},
   "outputs": [
    {
     "name": "stderr",
     "output_type": "stream",
     "text": [
      "Setting `pad_token_id` to `eos_token_id`:128001 for open-end generation.\n"
     ]
    },
    {
     "name": "stdout",
     "output_type": "stream",
     "text": [
      "**General: 6.0**\n",
      "Overall Explanation: The essay attempts to discuss the reasons behind people's interest in knowing the history of their place of residence, and while it has some limitations, it still conveys the writer's ideas reasonably well. However, the essay lacks clarity, coherence, and accuracy in some areas, which affects its overall score.\n",
      "\n",
      "**Task Response: 7**\n",
      "Explanation: The essay partially addresses the topic, but it does so in a clear and concise manner. The writer identifies two main reasons for people's interest in knowing the history of their place of residence, and provides some supporting evidence. However, the essay lacks a clear thesis statement, and the writer does not fully explore the reasons behind this phenomenon. For example, the writer mentions \"human nature is full of curiosity\" as a reason, but does not elaborate on this point. Additionally, the writer does not fully discuss the second reason mentioned, \"firmness of building is another strong rational\". The essay also lacks a conclusion that summarizes the main points and reiterates the thesis statement.\n",
      "\n",
      "**Coherence and Cohesion: 6**\n",
      "Explanation: The essay has some coherence, with the writer's ideas flowing reasonably well from one paragraph to the next. However, the transitions between paragraphs could be improved, and the writer could use more cohesive devices to connect their ideas. For example, the writer jumps abruptly from discussing the reasons for people's interest in knowing the history of their place of residence to discussing the methods of researching this topic. Additionally, the writer uses simple sentence structures, which can make the essay feel a bit flat and lacking in variety.\n",
      "\n",
      "**Lexical Resource: 6**\n",
      "Explanation: The writer uses a limited range of vocabulary, and often relies on simple and repetitive language. For example, the writer uses the phrase \"place they live in\" multiple times, which can become repetitive and lacks variety. Additionally, the writer does not use any idiomatic expressions or complex vocabulary, which can make the essay feel a bit bland. To improve this, the writer could use more precise and varied language to convey their ideas.\n",
      "\n",
      "**Grammatical Range and Accuracy: 6**\n",
      "Explanation: The essay has some grammatical errors, but they are not significant enough to impede communication. However, the writer could improve their sentence structure and grammar by using more complex and varied sentence structures. For example, the writer uses simple sentence structures throughout the essay, which can make it feel a bit flat and lacking in variety. Additionally, the writer uses incorrect verb tenses, such as \"has lived\" instead of \"lived\", and lacks consistent use of articles (\"a\" vs. \"an\"). To improve this, the writer could use more complex sentence structures and pay attention to verb tenses and article usage.\n",
      "\n",
      "To improve this essay, the writer could:\n",
      "\n",
      "* Provide a clear thesis statement that summarizes the main points and reiterates the topic\n",
      "* Fully explore the reasons behind people's interest in knowing the history of their place of residence\n",
      "* Use more cohesive devices to connect their ideas and improve the flow of the essay\n",
      "* Use more precise and varied language to convey their ideas\n",
      "* Improve sentence structure and grammar by using more complex and varied sentence structures\n",
      "* Pay attention to verb tenses and article usage to improve accuracy.\n"
     ]
    }
   ],
   "source": [
    "indepth_feedback = scoring_bot.indepth_feedback()\n",
    "print(indepth_feedback)"
   ]
  },
  {
   "cell_type": "code",
   "execution_count": 10,
   "metadata": {},
   "outputs": [
    {
     "name": "stderr",
     "output_type": "stream",
     "text": [
      "Setting `pad_token_id` to `eos_token_id`:128001 for open-end generation.\n",
      "Setting `pad_token_id` to `eos_token_id`:128001 for open-end generation.\n"
     ]
    },
    {
     "name": "stdout",
     "output_type": "stream",
     "text": [
      "[{'generated_text': '**Suggesting changes:**\\n\\n**Task Response:**\\n\\n* Add a clear thesis statement to introduce the main argument: \"As people become increasingly interested in knowing the history of their place of residence, it is essential to understand the reasons behind this phenomenon.\"\\n* Provide more depth and support for the two reasons mentioned: \"Firstly, human nature is full of curiosity, and people are naturally inclined to explore the past of their living space. Secondly, the concern for the soundness of the building structure and the potential issues it may pose are significant factors driving people\\'s interest in knowing the history of their place of residence.\"\\n\\n**Coherence and Cohesion:**\\n\\n* Add a clear topic sentence to each paragraph to provide a clear direction for the reader: \"The first reason people are interested in knowing the history of their place of residence is due to human nature\\'s curiosity.\"\\n* Use transitional phrases to connect the ideas between paragraphs: \"Furthermore, the concern for the soundness of the building structure is another significant factor driving people\\'s interest in knowing the history of their place of residence.\"\\n\\n**Lexical Resource:**\\n\\n* Use more precise and varied vocabulary to convey the writer\\'s ideas: \"Instead of using the phrase \\'craze to know about the history of place they live in,\\' the writer could use \\'a growing interest in the historical background of their living space\\' or \\'a desire to uncover the past of their residence.\\'\"\\n* Avoid repetition by using synonyms: \"Instead of using \\'history of place they live in\\' and \\'background of building they live in,\\' the writer could use \\'past of their residence\\' and \\'historical background of their living space\\'.\"\\n\\n**Grammatical Range and Accuracy:**\\n\\n* Use more complex sentence structures to convey the writer\\'s ideas: \"The concern for the soundness of the building structure is not only driven by the fear of potential issues but also by the desire to understand the historical context in which the building was constructed.\"\\n* Edit the essay carefully to eliminate grammatical errors: \"Change \\'As we all know, human nature is full of curiosity. So, everyone who live in a house wants to know about the history of it.\\' to \\'Human nature is known for its curiosity, and this inclination to explore the past is a driving force behind people\\'s interest in knowing the history of their place of residence.\\'\"\\n\\n**Revised Essay:**\\n\\nIn many nations, people are developing a growing interest in the historical background of their living space. The current essay discusses the reasons behind this phenomenon.\\n\\nThere are two main reasons for this phenomenon. Firstly, human nature is full of curiosity, and this inclination to explore the past is a driving force behind people\\'s interest in knowing the history of their place of residence. Secondly, the concern for the soundness of the building structure and the potential issues it may pose are significant factors driving people\\'s interest in knowing the history of their place of residence. People also wonder about who has lived in this building before them and what were their experiences related to the place.\\n\\nThere are many methods to discover these curiosities. Firstly, people can check the history of the building in public records. In this way, they are able to know who built the building and all other confusions related to the potential soundness of the building. Secondly, the most easiest way to inquire is, they can ask neighbors whatever information they want to seek about the building.\\n\\nIn conclusion, the primary reason why most people are concerned about the background of the building they live in is because they are much concerned over the soundness of the structure of the building and it\\'s out of natural curiosity. The best way to unearth this information is to ask neighbors or to search public records of the building.'}]\n"
     ]
    }
   ],
   "source": [
    "revived_essay = scoring_bot.revive_essay()\n",
    "print(revived_essay)"
   ]
  },
  {
   "cell_type": "code",
   "execution_count": 11,
   "metadata": {},
   "outputs": [
    {
     "name": "stdout",
     "output_type": "stream",
     "text": [
      "\n",
      "\n",
      "In many nations, people are developing a growing interest in the historical background of their living space. The current essay discusses the reasons behind this phenomenon.\n",
      "\n",
      "There are two main reasons for this phenomenon. Firstly, human nature is full of curiosity, and this inclination to explore the past is a driving force behind people's interest in knowing the history of their place of residence. Secondly, the concern for the soundness of the building structure and the potential issues it may pose are significant factors driving people's interest in knowing the history of their place of residence. People also wonder about who has lived in this building before them and what were their experiences related to the place.\n",
      "\n",
      "There are many methods to discover these curiosities. Firstly, people can check the history of the building in public records. In this way, they are able to know who built the building and all other confusions related to the potential soundness of the building. Secondly, the most easiest way to inquire is, they can ask neighbors whatever information they want to seek about the building.\n",
      "\n",
      "In conclusion, the primary reason why most people are concerned about the background of the building they live in is because they are much concerned over the soundness of the structure of the building and it's out of natural curiosity. The best way to unearth this information is to ask neighbors or to search public records of the building.\n"
     ]
    }
   ],
   "source": [
    "print(scoring_bot.get_revived_essay())"
   ]
  },
  {
   "cell_type": "code",
   "execution_count": 12,
   "metadata": {},
   "outputs": [],
   "source": [
    "scoring_bot.clear_messages()"
   ]
  }
 ],
 "metadata": {
  "kernelspec": {
   "display_name": "base",
   "language": "python",
   "name": "python3"
  },
  "language_info": {
   "codemirror_mode": {
    "name": "ipython",
    "version": 3
   },
   "file_extension": ".py",
   "mimetype": "text/x-python",
   "name": "python",
   "nbconvert_exporter": "python",
   "pygments_lexer": "ipython3",
   "version": "3.11.5"
  }
 },
 "nbformat": 4,
 "nbformat_minor": 2
}
